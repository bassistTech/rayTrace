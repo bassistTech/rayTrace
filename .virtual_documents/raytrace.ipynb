import matplotlib.pyplot as plt
import numpy as np
import datetime
import sympy as sp
print('raytrace imported', datetime.datetime.now())

run_tests = True # set false if you're going to import this into another notebook


def norm(x):
    '''
    length of vector
    '''
    if len(x.shape) == 1:
        # x: vector
        return np.sqrt(np.sum(x*x)) # scalar
    else:
        # x: [vectors]
        return np.sqrt(np.sum(x*x, axis=1)) # [scalars]
    
def normalize(v):
    '''
    return a vector of same direction but unit length
    '''
    if len(v.shape) == 1:
        # v: vector
        return v / norm(v) # vector
    else:
        # v: [vectors]
        return v / norm(v)[:, np.newaxis] # [vectors]


r, c, k = sp.symbols('r c k')

sag_conic_sp = c*r**2/(1 + sp.sqrt(1 - (1 + k)*c**2*r**2))
sag_conic_sp


sag_conic_diff_sp = sp.simplify(sp.diff(sag_conic_sp, r)/r)
sag_conic_diff_sp


# **sp.lambdify** converts the function back into a regular Python function, using
# portions of **numpy**.

sag_conic = sp.lambdify([r, c, k], sag_conic_sp, 'numpy')
sag_conic_diff = sp.lambdify([r, c, k], sag_conic_diff_sp, 'numpy')


def distance_point_line(a, n, p):
    """
    distance from point to line
    a = point on the line
    n = unit vector in direction of line
    p = point in space
    """
    if len(p.shape) == 1:
        # p: point
        return norm(p - a - n*np.dot(p - a, n))
    else:
        # p: [point]
        return norm(p - a - np.outer(np.sum((p - a)*n, axis = 1), n))


def intersect_line_plane(x_surf, n_surf, x_line, v_line):
    """
    intersection of line and plane
    x_surf = point on plane
    n_surf = normal to plane
    x_line = point on line
    v_line = direction vector of line
    """
    if len(x_line.shape) == 1:
        # x_line: point
        return x_line + v_line * np.dot((x_surf - x_line), n_surf) / np.dot(v_line, n_surf)
    else:
        # x_line: [points]
        nps = (np.sum((x_surf-x_line)*n_surf, axis=1) / np.sum(v_line*n_surf, axis=1))[:, np.newaxis] 
        return x_line + v_line * nps


def rotate_matrix(axis, alpha_deg):
    '''
    generic rotation matrix
    '''
    alpha = alpha_deg * np.pi / 180
    a, b, c = axis
    ca = np.cos(alpha)
    sa = np.sin(alpha)
    K = 1 - ca
    return np.matrix(
        [
            [a**2 * K + ca,       a * b * K - c * sa,  a * c * K + b * sa],
            [a * b * K + c * sa,  b**2 * K + ca,       b * c * K - a * sa],
            [a * c * K - b * sa,  b * c * K + a * sa,  c**2 * K + ca],
        ]
    )


def coord_rotate(v, axis, alpha_deg):
    '''
    coordinate rotation of a vector around an axis and angle
    v: vector or point = The thing to be rotated
    axis: vector = The rotation axis
    alpha:deg = Amount of rotation in degrees
    '''
    M = rotate_matrix(axis, alpha_deg)
    return np.array(np.matmul(M, v))[0, :]


def coord_shift(x, dx):
    '''
    coordinate shift of a vector by a distance vector
    Will probably get rid of, self explanatory
    '''
    return x + dx


def apply_geometry_defaults(d, defaults):
    return d | {k: defaults[k] for k in defaults if k not in d}

def build_geometry(surface_list):
    geometry_defaults = {"dist": 0,
                         "draw_radius": 10, "draw_dx": 0, "draw_dy": 0}
    
    # This is the coordinate basis that will be cumulatively updated
    # at each surface
    origin = np.array((0, 0, 0))
    x_axis = np.array((1, 0, 0))
    y_axis = np.array((0, 1, 0))
    z_axis = np.array((0, 0, 1))

    # Run through the surfaces, applying the coordinate basis to each
    # surface, while updating it for use by the next surface.
    geometry = []
    for s in surface_list:
        g = apply_geometry_defaults(s, geometry_defaults)
        if g["surf"] == "rotate":
            x_axis = coord_rotate(x_axis, g["axis"], g["degrees"])
            y_axis = coord_rotate(y_axis, g["axis"], g["degrees"])
            z_axis = coord_rotate(z_axis, g["axis"], g["degrees"])
        elif g["surf"] == "shift":
            origin = coord_shift(
                origin,
                g["delta"][0] * x_axis
                + g["delta"][1] * y_axis
                + g["delta"][2] * z_axis,
            )
        # Apply the new coordinates to the current surface
        g["origin"] = np.array(origin)
        g["x_axis"] = np.array(x_axis)
        g["y_axis"] = np.array(y_axis)
        g["z_axis"] = np.array(z_axis)
        # Set the origin of the next surface
        origin = origin + g["dist"] * z_axis
        geometry.append(g)
        
    return geometry


def propagate_dummy_surface(ray_table, en, ex, surface):
    # Acts on all of the rays at a surface at once
    # en = ray number of previous surface (entrance)
    # ex = ray number of this surface (exit)
    ray_table[ex, :, 0, :] = intersect_line_plane(surface["origin"], surface["z_axis"],
                                                 ray_table[en, :, 0, :], ray_table[en, :, 1, :])
    ray_table[ex, :, 1, :] = ray_table[en, :, 1, :]


def propagate_conic_surface(ray_table, en, ex, surface):
    # first step is intersecting the input ray with the curved surface
    sag = np.zeros([ray_table.shape[1]])
    for k in range(10):
        ray_table[ex, :, 0, :] = intersect_line_plane(
            surface["origin"] + np.outer(sag, surface["z_axis"]), surface["z_axis"],
            ray_table[en, :, 0, :], ray_table[en, :, 1, :])
        r = distance_point_line(
            surface["origin"],
            surface["z_axis"],
            ray_table[ex, :, 0, :])
        sag = sag_conic(r, surface["c"], surface["k"])

    # second step is finding surface normal on the exit surface
    sd = sag_conic_diff(r, surface['c'], surface['k'])
    #d_sag_d_r2(r, surface["c"], surface["k"])
    x = np.dot(ray_table[ex, :, 0, :] - surface["origin"], surface["x_axis"])
    y = np.dot(ray_table[ex, :, 0, :] - surface["origin"], surface["y_axis"])

    #n = normalize(  # array of vectors
    #    np.outer(2*x*sd, surface["x_axis"])
    #    + np.outer(2*y*sd, surface["y_axis"])
    #    - surface["z_axis"])
    
    n = normalize(np.outer(sd*x, surface['x_axis'])
                 + np.outer(sd*y, surface['y_axis'])
                 - surface['z_axis'])

    # third step is finding the direction of the refracted ray
    i = -ray_table[en, :, 1, :]  # [vectors]
    ci = np.sum(i*n, axis=1) # [scalars]
    eta = surface["n1"] / surface["n2"]  # scalar
    ct = np.sqrt(1 - eta**2 * (1 - ci**2))  # [scalars]
    vr = (eta * ci - ct)[:, np.newaxis]*n - eta*i # [vectors]
    ray_table[ex, :, 1, :] = vr


def propagate_plane_grating(ray_table, en, ex, surface, ray_properties):
    # en, ex are entrance and exit surface numbers, typically en = ex - 1
    
    ray_table[ex, :, 0, :] = intersect_line_plane(
            surface["origin"], surface["z_axis"],
            ray_table[en, :, 0, :], ray_table[en, :, 1, :])
    
    # three arrays of scalars in coordinates local to the surface
    
    exy = (
        surface["n1"] * np.dot(ray_table[en, :, 1, :], surface["y_axis"])
        + surface["m"] * ray_properties['wavl'] / surface["d"]
    ) / surface["n2"]
    
    exx = surface["n1"] * np.dot(ray_table[en, :, 1, :],
                                surface["x_axis"]) / surface["n2"]
                                
    exz = np.sqrt(1 - exx*exx - exy*exy)
    
    # convert to a vector in global coordinates
    
    ray_table[ex, :, 1, :] = (np.outer(exx, surface["x_axis"]) 
        + np.outer(exy, surface["y_axis"])
        + np.outer(exz, surface["z_axis"]))


def propagate_ray(ray_table, ray_properties, geometry):
    # No tracing to first surface
    for i in range(1, len(geometry)):
        g = geometry[i]
        if g["surf"] in ["rotate", "shift", "dummy"]:
            propagate_dummy_surface(ray_table, i-1, i, g)
        elif g["surf"] == "conic":
            propagate_conic_surface(ray_table, i-1, i, g)
        elif g["surf"] == "plane grating":
            propagate_plane_grating(ray_table, i-1, i, g, ray_properties)
        else:
            print("Did not recognize surface type", g["surf"])


def new_plot_xy(axes=["x", "y"], **kwargs):
    # axes is an optional list of axes that you actually want to plot
    fig, axs = plt.subplots(len(axes), 1, sharex="col", sharey="row", **kwargs)
    # resolve fact that plt.subplots returns either a scalar axs or a list
    # depending on number of axes. We want always a list for consistency
    # later on.
    if len(axes) == 1:
        return {"fig": fig, "axs": [axs]} | {axes[i]: i for i in range(len(axes))}
    else:
        return {"fig": fig, "axs": axs} | {axes[i]: i for i in range(len(axes))}


def plot_faces(axd, surface_list):
    npts = 50
    x = np.empty((npts, 3))

    for s in surface_list:
        ra = np.linspace(-s["draw_radius"], s["draw_radius"], npts)
        xa = ra + s["draw_dx"]
        ya = ra + s["draw_dy"]

        # generate drawing curves in local coordinates of object
        match s["surf"]:
            case ("dummy" | "plane_grating" | "rotate" | "shift"):
                zxa = np.zeros_like(ra)
                zya = zxa
            case "conic":
                zxa = sag_conic(xa, s["c"], s["k"])
                zya = sag_conic(ya, s["c"], s["k"])

        # first graph shows the z-x coordinate axis in global space
        if "x" in axd:
            for i in range(npts):
                x[i, :] = s["origin"] + xa[i] * \
                    s["x_axis"] + zxa[i] * s["z_axis"]
            axd["axs"][axd["x"]].plot(x[:, 2], x[:, 0], linewidth=1)
            axd["axs"][axd["x"]].set_ylabel("X (mm)")

        # second graph shows the z-y coordinate axis in global space
        if "y" in axd:
            for i in range(npts):
                x[i, :] = s["origin"] + ya[i] * \
                    s["y_axis"] + zya[i] * s["z_axis"]
            axd["axs"][axd["y"]].plot(x[:, 2], x[:, 1], linewidth=1)
            axd["axs"][axd["y"]].set_ylabel("Y (mm)")
        axd["axs"][-1].set_xlabel("Z (mm)")

    [ax.set_aspect("equal") for ax in axd["axs"]]


def print_ray_table(ray_table):
    print('surface ray x y z vx vy vz')
    for s in range(ray_table.shape[0]):
        for r in range(ray_table.shape[1]):
            print(s, r, ray_table[s, r, 0, :], ray_table[s, r, 1, :])


def ray_table_from_fields_vectors(geometry, field_points, vectors):
    ray_table = np.empty([len(geometry), len(field_points)*len(vectors), 2, 3])
    for i in range(len(field_points)):
        for j in range(len(vectors)):
            k = j + i*len(vectors)
            ray_table[0, k, 0, :] = field_points[i]
            ray_table[0, k, 1, :] = vectors[j]
    return ray_table


def ray_table_from_fields_points(geometry, field_points, pupil_points):
    ray_table = np.empty(
        [len(geometry), len(field_points)*len(pupil_points), 2, 3])
    for i in range(len(field_points)):
        for j in range(len(pupil_points)):
            k = j + i*len(pupil_points)
            ray_table[0, k, 0, :] = field_points[i]
            ray_table[0, k, 1, :] = normalize(
                pupil_points[j] - field_points[i])
    return ray_table


def plot_rays(axd, geometry, ray_table, ray_properties, **kwargs):
    keep = [s['draw_radius'] != 0 for s in geometry]

    for i in range(ray_table.shape[1]):
        if "x" in axd:
            axd["axs"][axd["x"]].plot(
                ray_table[:, i, 0, 2][keep], ray_table[:, i, 0, 0][keep], **kwargs)
        if "y" in axd:
            axd["axs"][axd["y"]].plot(
                ray_table[:, i, 0, 2][keep], ray_table[:, i, 0, 1][keep], **kwargs)


def default_ray_properties(ray_table):
    return {'wavl': np.full((ray_table.shape[1]), 633e-6)}


def test1():
    surface_list = [
        {"surf": "dummy", "dist": 20, "draw_radius": 5},
        {
            "surf": "conic",
            "dist": 3,
            "c": 1 / 10,
            "k": 0,
            "n1": 1,
            "n2": 1.5,
            "draw_radius": 5,
        },
        {
            "surf": "conic",
            "dist": 20,
            "c": -1 / 10,
            "k": 0,
            "n1": 1.5,
            "n2": 1,
            "draw_radius": 5,
        },
        {"surf": "dummy", "dist": 10, "draw_radius": 5}
    ]
    geometry = build_geometry(surface_list)
    field_points = np.array([[0, 0, 0]])
    pupil_points = np.array([[1, 0, 10]])
    ray_table = ray_table_from_fields_points(geometry, field_points, pupil_points)
    ray_properties = default_ray_properties(ray_table)
    propagate_ray(ray_table, ray_properties, geometry)
    axd = new_plot_xy()
    plot_faces(axd, geometry)
    plot_rays(axd, geometry, ray_table, ray_properties, marker = '.')
    axd["axs"][0].set_title("Single ray through basic lens")

if run_tests: test1()


def test2():
    surface_list = [
        {"surf": "dummy", "dist": 20, "draw_radius": 5},
        {
            "surf": "conic",
            "dist": 3,
            "c": 1 / 10,
            "k": 0,
            "n1": 1,
            "n2": 1.5,
            "draw_radius": 5,
        },
        {
            "surf": "conic",
            "dist": 20,
            "c": -1 / 10,
            "k": 0,
            "n1": 1.5,
            "n2": 1,
            "draw_radius": 5,
        },
        {"surf": "dummy", "dist": 0, "draw_radius": 5},
    ]
    geometry = build_geometry(surface_list)

    lsf = np.linspace(-2, 2, 3)
    lsp = np.linspace(-2, 2, 3)
    fieldPoints = np.array([[x, y, 0] for x in lsf for y in lsf])
    pupilPoints = np.array([[x, y, 20] for x in lsp for y in lsp])
    
    ray_table = ray_table_from_fields_points(geometry, fieldPoints, pupilPoints)
    
    ray_properties = default_ray_properties(ray_table)
    propagate_ray(ray_table, ray_properties, geometry)
    axd = new_plot_xy(figsize = (10, 10))
    plot_faces(axd, geometry)
    plot_rays(axd, geometry, ray_table, ray_properties)
    axd["axs"][0].set_title("Multiple rays through basic lens")

if run_tests: test2()


def test3():
    surface_list = [
        {"surf": "dummy", "dist": 10, "draw_radius": 5},
        {
            "surf": "conic",
            "dist": 3.0,
            "c": 1 / 9.9,
            "k": 0,
            "n1": 1,
            "n2": 1.515,
            "draw_radius": 5,
        },
        {
            "surf": "conic",
            "dist": 8.2,
            "c": -1 / 9.9,
            "k": 0,
            "n1": 1.515,
            "n2": 1,
            "draw_radius": 5,
        },
        {"surf": "dummy", "dist": 0, "draw_radius": 5},
    ]
    
    geometry = build_geometry(surface_list)

    lsf = np.linspace(-2, 2, 3)
    lsp = np.linspace(-0.05, 0.05, 3)
    field_points = np.array([np.array([x, 0, 0]) for x in lsf])
    pupil_points = np.array([normalize(np.array([x, 0, 1])) for x in lsp])
    ray_table = ray_table_from_fields_vectors(geometry, field_points, pupil_points)
    ray_properties = default_ray_properties(ray_table)
    propagate_ray(ray_table, ray_properties, geometry)
    axd = new_plot_xy(figsize = (10, 10))
    plot_faces(axd, geometry)
    plot_rays(axd, geometry, ray_table, ray_properties, marker = '.', markersize = 3)
    axd["axs"][0].set_title("Collimated beam through basic lens")

if run_tests: test3()


def test4():
    surface_list = [
        {"surf": "dummy", "dist": 0, "draw_radius": 5},
        {"surf": "dummy", "dist": 10, "draw_radius": 5},
        {
            "surf": "conic",
            "dist": -20,
            "c": -1 / 40,
            "k": 0,
            "n1": 1,
            "n2": -1,
            "draw_radius": 5,
        },
        {"surf": "dummy", "dist": 0, "draw_radius": 5},
    ]
    geometry = build_geometry(surface_list)

    lsf = np.linspace(-3, 3, 3)
    lsp = np.linspace(-0.01, 0.01, 3)
    
    field_points = [np.array([0.0, y, 0.0]) for x in lsf for y in lsf]
    pupil_points = [normalize(np.array([0.0, y, 1.0])) for x in lsp for y in lsp]

    ray_table = ray_table_from_fields_vectors(geometry, field_points, pupil_points)
    ray_properties = default_ray_properties(ray_table)
    propagate_ray(ray_table, ray_properties, geometry)
    axd = new_plot_xy(figsize = (10, 10))
    plot_faces(axd, geometry)
    plot_rays(axd, geometry, ray_table, ray_properties, marker = '.', markersize = 3)
    axd["axs"][0].set_title("Collimated beam into spherical mirror")

if run_tests: test4()


def test5():
    surface_list = [
        {"surf": "dummy", "dist": 50, "draw_radius": 5},
        {
            "surf": "conic",
            "dist": -20,
            "c": -1 / 40,
            "k": -1,
            "n1": 1,
            "n2": -1,
            "draw_radius": 40,
        },
        {"surf": "dummy", "dist": 0, "draw_radius": 5},
    ]
    geometry = build_geometry(surface_list)

    lsf = np.linspace(-30, 30, 5)

    field_points = [np.array([x, 0, 0]) for x in lsf]
    pupil_points = np.array([[0, 0, 1]])

    ray_table = ray_table_from_fields_vectors(geometry, field_points, pupil_points)
    ray_properties = default_ray_properties(ray_table)
    propagate_ray(ray_table, ray_properties, geometry)
    axd = new_plot_xy(figsize = (10, 10))
    plot_faces(axd, geometry)
    plot_rays(axd, geometry, ray_table, ray_properties, marker = '.', markersize = 3)
    axd["axs"][0].set_title("Collimated beam into parabolic mirror")

if run_tests: test5()


def test5():

    surface_list = [
        {"surf": "dummy", "dist": 0, "draw_radius": 5},
        {"surf": "dummy", "dist": 20, "draw_radius": 5},
        {
            "surf": "plane grating",
            "dist": -10,
            "m": 1,
            "d": 1 / 600,
            "n1": 1,
            "n2": -1,
            "draw_radius": 5,
        },
        {"surf": "dummy", "dist": -20, "draw_radius": 5},
    ]
    geometry = build_geometry(surface_list)

    lsf = np.linspace(-1, 1, 3)
    lsp = np.linspace(-0.01, 0.01, 3)
    field_points = [[x, y, 0] for x in lsf for y in lsf]
    pupil_points = [normalize(np.array([x, y, 1])) for x in lsp for y in lsp]
    ray_table = ray_table_from_fields_vectors(geometry, field_points, pupil_points)
    ray_properties = default_ray_properties(ray_table)
    propagate_ray(ray_table, ray_properties, geometry)
    axd = new_plot_xy(figsize = (10, 10))
    plot_faces(axd, geometry)
    plot_rays(axd, geometry, ray_table, ray_properties, marker = '.', markersize = 3)
    axd["axs"][0].set_title(
        """Collimated beam into diffraction grating
    n=1200, $\lambda$ = 633 nm, m = 1"""
    )


if run_tests: test5()


def test6():
    surface_list = [
        {"surf": "dummy", "dist": 10, "draw_radius": 1},
        {"surf": "shift", "delta": np.array((1, 0, 0)), "dist": 0, "draw_radius": 1},
        {"surf": "dummy", "dist": 10, "draw_radius": 1},
        {"surf": "dummy", "dist": 10, "draw_radius": 1},
    ]

    geometry = build_geometry(surface_list)
    field_points = [np.array([0, 0, 0])]
    pupil_points = [np.array([0, 0, 1])]
    ray_table = ray_table_from_fields_vectors(geometry, field_points, pupil_points)
    ray_properties = default_ray_properties(ray_table)
    propagate_ray(ray_table, ray_properties, geometry)
    axd = new_plot_xy(figsize = (10, 10))
    plot_faces(axd, geometry)
    plot_rays(axd, geometry, ray_table, ray_properties, marker = '.', markersize = 3)
    axd["axs"][0].set_title("Simple de-center")

if run_tests: test6()


def test6():
    surface_list = [
        {"surf": "dummy", "dist": 10, "draw_radius": 1},
        {"surf": "dummy", "dist": 0, "draw_radius": 0},
        {
            "surf": "rotate",
            "axis": np.array((0, 1, 0)),
            "degrees": 10,
            "dist": 0,
            "draw_radius": 1,
        },
        {"surf": "dummy", "dist": 10, "draw_radius": 1},
        {"surf": "dummy", "dist": 0, "draw_radius": 1},
    ]

    geometry = build_geometry(surface_list)

    lsf = np.linspace(-1, 1, 3)
    field_points = [np.array([0, 0, 0])]
    pupil_points = [np.array([0, 0, 1])]
    ray_table = ray_table_from_fields_vectors(geometry, field_points, pupil_points)
    ray_properties = default_ray_properties(ray_table)
    propagate_ray(ray_table, ray_properties, geometry)
    axd = new_plot_xy(figsize = (10, 10))
    plot_faces(axd, geometry)
    plot_rays(axd, geometry, ray_table, ray_properties, marker = '.', markersize = 3)
    axd["axs"][0].set_title("Simple rotation")

if run_tests: test6()


def test6():
    surface_list = [
        {"surf": "dummy", "dist": 20, "draw_radius": 5},
        {"surf": "shift", "delta": np.array([0, 2, 0]), "dist": 0, "draw_radius": 0},
        {
            "surf": "conic",
            "dist": -20,
            "c": -1 / 20,
            "k": 0,
            "n1": 1,
            "n2": -1,
            "draw_radius": 5,
        },
        {"surf": "dummy", "dist": 0, "draw_radius": 5},
    ]
    geometry = build_geometry(surface_list)

    lsf = np.linspace(-1, 1, 3)
    lsp = np.linspace(-0.1, 0.1, 3)

    field_points = [np.array([0.0, y, 0.0]) for x in lsf for y in lsf]
    pupil_points = [normalize(np.array([0.0, y, 1.0])) for x in lsp for y in lsp]

    ray_table = ray_table_from_fields_vectors(geometry, field_points, pupil_points)
    ray_properties = default_ray_properties(ray_table)
    propagate_ray(ray_table, ray_properties, geometry)
    axd = new_plot_xy(figsize = (10, 10))
    plot_faces(axd, geometry)
    plot_rays(axd, geometry, ray_table, ray_properties, marker = '.', markersize = 3)
    axd["axs"][0].set_title("Spherical mirror, axial shift")
    
if run_tests: test6()


def test7():
    surface_list = [
        {"surf": "dummy", "dist": 20, "draw_radius": 5},
        {
            "surf": "rotate",
            "axis": np.array([1, 0, 0]),
            "degrees": 10,
            "dist": 0,
            "draw_radius": 0,
        },
        {
            "surf": "conic",
            "dist": -20,
            "c": -1 / 20,
            "k": 0,
            "n1": 1,
            "n2": -1,
            "draw_radius": 5,
        },
        {"surf": "dummy", "dist": 0, "draw_radius": 5},
    ]

    geometry = build_geometry(surface_list)

    lsf = np.linspace(-1, 1, 3)
    lsp = np.linspace(-0.1, 0.1, 3)
    
    field_points = [np.array([0.0, y, 0.0]) for x in lsf for y in lsf]
    pupil_points = [normalize(np.array([0.0, y, 1.0])) for x in lsp for y in lsp]

    ray_table = ray_table_from_fields_vectors(geometry, field_points, pupil_points)
    ray_properties = default_ray_properties(ray_table)
    propagate_ray(ray_table, ray_properties, geometry)
    axd = new_plot_xy(figsize = (10, 10))
    plot_faces(axd, geometry)
    plot_rays(axd, geometry, ray_table, ray_properties, marker = '.', markersize = 3)
    axd["axs"][0].set_title("Spherical mirror, tilted")

if run_tests: test7()






