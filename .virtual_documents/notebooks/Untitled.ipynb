import numpy as np

fields = [-0.1, 0, 1]
pupils = [-10, 0, 10]
waves = [500, 600, 700]


a = np.array([fields, pupils, waves])


def indexLists(a):
    lena = list(map(len, a))
    moda = np.prod(lena)
    indexlist = np.empty((moda, len(lena)))
    for i in range(len(a)):
        modb = moda // len(a[i])
        print('moda modb', moda, modb)
        indexlist[:, i] = a[i][(np.arange(np.prod(lena)) % moda) // modb]
        moda = modb
    return indexlist.transpose()
        
indexLists(a)



