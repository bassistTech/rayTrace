import numpy as np

fields = [-0.1, 0, 1]
pupils = [-10, 0, 10]
waves = [500, 600, 700, 800]


a = [fields, pupils, waves]


def meshList(a):
    input = list(map(np.array, a))
    lena = list(map(len, a))
    moda = np.prod(lena)
    result = np.empty((moda, len(lena)))
    for i in range(len(a)):
        modb = moda // len(input[i])
        result[:, i] = input[i][(np.arange(np.prod(lena)) % moda) // modb]
        moda = modb
    return result
        
meshList(a)



